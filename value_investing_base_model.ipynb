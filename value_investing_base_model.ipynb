{
 "cells": [
  {
   "cell_type": "markdown",
   "metadata": {},
   "source": [
    "# ML-Value-Investing \n",
    "\n",
    "#### Summary: look at all companies in the S&P 500 and try to predict whether or not it will beat the S&P. This will be done by first getting all the financial data from yahoo finance using the yahoo query library, then training a ML algorithm to predict weather or not the stock will beat the S&P in a year from the date the financial were published."
   ]
  },
  {
   "cell_type": "markdown",
   "metadata": {},
   "source": [
    "## get the data"
   ]
  },
  {
   "cell_type": "markdown",
   "metadata": {},
   "source": [
    "### get S&P 500 Stocks"
   ]
  },
  {
   "cell_type": "code",
   "execution_count": 1,
   "metadata": {},
   "outputs": [],
   "source": [
    "import pandas as pd\n",
    "\n",
    "payload=pd.read_html('https://en.wikipedia.org/wiki/List_of_S%26P_500_companies')\n",
    "first_table = payload[0]\n",
    "second_table = payload[1]\n",
    "\n",
    "df = first_table"
   ]
  },
  {
   "cell_type": "code",
   "execution_count": 4,
   "metadata": {},
   "outputs": [
    {
     "data": {
      "text/html": [
       "<div>\n",
       "<style scoped>\n",
       "    .dataframe tbody tr th:only-of-type {\n",
       "        vertical-align: middle;\n",
       "    }\n",
       "\n",
       "    .dataframe tbody tr th {\n",
       "        vertical-align: top;\n",
       "    }\n",
       "\n",
       "    .dataframe thead th {\n",
       "        text-align: right;\n",
       "    }\n",
       "</style>\n",
       "<table border=\"1\" class=\"dataframe\">\n",
       "  <thead>\n",
       "    <tr style=\"text-align: right;\">\n",
       "      <th></th>\n",
       "      <th>Symbol</th>\n",
       "      <th>Security</th>\n",
       "      <th>SEC filings</th>\n",
       "      <th>GICS Sector</th>\n",
       "      <th>GICS Sub Industry</th>\n",
       "      <th>Headquarters Location</th>\n",
       "      <th>Date first added</th>\n",
       "      <th>CIK</th>\n",
       "      <th>Founded</th>\n",
       "    </tr>\n",
       "  </thead>\n",
       "  <tbody>\n",
       "    <tr>\n",
       "      <th>0</th>\n",
       "      <td>MMM</td>\n",
       "      <td>3M Company</td>\n",
       "      <td>reports</td>\n",
       "      <td>Industrials</td>\n",
       "      <td>Industrial Conglomerates</td>\n",
       "      <td>St. Paul, Minnesota</td>\n",
       "      <td>1976-08-09</td>\n",
       "      <td>66740</td>\n",
       "      <td>1902</td>\n",
       "    </tr>\n",
       "    <tr>\n",
       "      <th>1</th>\n",
       "      <td>ABT</td>\n",
       "      <td>Abbott Laboratories</td>\n",
       "      <td>reports</td>\n",
       "      <td>Health Care</td>\n",
       "      <td>Health Care Equipment</td>\n",
       "      <td>North Chicago, Illinois</td>\n",
       "      <td>1964-03-31</td>\n",
       "      <td>1800</td>\n",
       "      <td>1888</td>\n",
       "    </tr>\n",
       "    <tr>\n",
       "      <th>2</th>\n",
       "      <td>ABBV</td>\n",
       "      <td>AbbVie Inc.</td>\n",
       "      <td>reports</td>\n",
       "      <td>Health Care</td>\n",
       "      <td>Pharmaceuticals</td>\n",
       "      <td>North Chicago, Illinois</td>\n",
       "      <td>2012-12-31</td>\n",
       "      <td>1551152</td>\n",
       "      <td>2013 (1888)</td>\n",
       "    </tr>\n",
       "    <tr>\n",
       "      <th>3</th>\n",
       "      <td>ABMD</td>\n",
       "      <td>ABIOMED Inc</td>\n",
       "      <td>reports</td>\n",
       "      <td>Health Care</td>\n",
       "      <td>Health Care Equipment</td>\n",
       "      <td>Danvers, Massachusetts</td>\n",
       "      <td>2018-05-31</td>\n",
       "      <td>815094</td>\n",
       "      <td>1981</td>\n",
       "    </tr>\n",
       "    <tr>\n",
       "      <th>4</th>\n",
       "      <td>ACN</td>\n",
       "      <td>Accenture plc</td>\n",
       "      <td>reports</td>\n",
       "      <td>Information Technology</td>\n",
       "      <td>IT Consulting &amp; Other Services</td>\n",
       "      <td>Dublin, Ireland</td>\n",
       "      <td>2011-07-06</td>\n",
       "      <td>1467373</td>\n",
       "      <td>1989</td>\n",
       "    </tr>\n",
       "  </tbody>\n",
       "</table>\n",
       "</div>"
      ],
      "text/plain": [
       "  Symbol             Security SEC filings             GICS Sector  \\\n",
       "0    MMM           3M Company     reports             Industrials   \n",
       "1    ABT  Abbott Laboratories     reports             Health Care   \n",
       "2   ABBV          AbbVie Inc.     reports             Health Care   \n",
       "3   ABMD          ABIOMED Inc     reports             Health Care   \n",
       "4    ACN        Accenture plc     reports  Information Technology   \n",
       "\n",
       "                GICS Sub Industry    Headquarters Location Date first added  \\\n",
       "0        Industrial Conglomerates      St. Paul, Minnesota       1976-08-09   \n",
       "1           Health Care Equipment  North Chicago, Illinois       1964-03-31   \n",
       "2                 Pharmaceuticals  North Chicago, Illinois       2012-12-31   \n",
       "3           Health Care Equipment   Danvers, Massachusetts       2018-05-31   \n",
       "4  IT Consulting & Other Services          Dublin, Ireland       2011-07-06   \n",
       "\n",
       "       CIK      Founded  \n",
       "0    66740         1902  \n",
       "1     1800         1888  \n",
       "2  1551152  2013 (1888)  \n",
       "3   815094         1981  \n",
       "4  1467373         1989  "
      ]
     },
     "execution_count": 4,
     "metadata": {},
     "output_type": "execute_result"
    }
   ],
   "source": [
    "df.head()"
   ]
  },
  {
   "cell_type": "code",
   "execution_count": 2,
   "metadata": {},
   "outputs": [],
   "source": [
    "stocks = df['Symbol'].values"
   ]
  },
  {
   "cell_type": "markdown",
   "metadata": {},
   "source": [
    "#### Get data from Yahoo Finance"
   ]
  },
  {
   "cell_type": "code",
   "execution_count": 7,
   "metadata": {},
   "outputs": [
    {
     "name": "stderr",
     "output_type": "stream",
     "text": [
      "100%|██████████| 505/505 [11:06<00:00,  1.32s/it]\n"
     ]
    }
   ],
   "source": [
    "from yahooquery import Ticker\n",
    "from tqdm import tqdm\n",
    "from datetime import date\n",
    "\n",
    "balance_sheet_data = []\n",
    "dates_and_names = {}\n",
    "for stock_name in tqdm(stocks):\n",
    "    try:\n",
    "        stock = Ticker(stock_name)\n",
    "        dates = []\n",
    "        \n",
    "        data = pd.concat([stock.balance_sheet().set_index('asOfDate'),\n",
    "                stock.cash_flow().set_index('asOfDate'),\n",
    "                stock.income_statement().set_index('asOfDate')],axis=1)\n",
    "        if len(data) >3:\n",
    "            data=data.fillna(0).select_dtypes(include=['float64']).pct_change()[1:-1].fillna(0)\n",
    "            \n",
    "            for i in data.index.values:\n",
    "                i = pd.to_datetime(i)\n",
    "                startDate = i.strftime('%Y-%m-%d')\n",
    "                endDate = date(i.year + 1, i.month, i.day).strftime('%Y-%m-%d') \n",
    "                dates.append([startDate, endDate])\n",
    "            dates_and_names[stock_name] = dates\n",
    "            \n",
    "            \n",
    "            balance_sheet_data.append(data)\n",
    "    except (AttributeError, ValueError):\n",
    "        pass"
   ]
  },
  {
   "cell_type": "code",
   "execution_count": 8,
   "metadata": {},
   "outputs": [],
   "source": [
    "def get_stock_preformance(stock,dates):\n",
    "    \"\"\"\n",
    "    gets the stock preformance from the previouse year\n",
    "    \"\"\"\n",
    "    data = Ticker(stock).history(start=dates[0],end=dates[1])\n",
    "    return (data.iloc[-1].close - data.iloc[0].close)/ data.iloc[0].close"
   ]
  },
  {
   "cell_type": "code",
   "execution_count": 9,
   "metadata": {},
   "outputs": [
    {
     "name": "stderr",
     "output_type": "stream",
     "text": [
      "100%|██████████| 501/501 [07:57<00:00,  1.05it/s]\n"
     ]
    }
   ],
   "source": [
    "import numpy as np\n",
    "returns = []\n",
    "for i,j in tqdm(dates_and_names.items()):\n",
    "    for date in j:\n",
    "        try:\n",
    "            returns.append(get_stock_preformance(i,date) - get_stock_preformance('spy',date))\n",
    "            \n",
    "        except AttributeError:\n",
    "            returns.append(np.nan)"
   ]
  },
  {
   "cell_type": "markdown",
   "metadata": {},
   "source": [
    "financial statements have pretty difrent atribute in them, but for this machine learning algorithm we will be only looking at the common atributes in all financial data"
   ]
  },
  {
   "cell_type": "code",
   "execution_count": 14,
   "metadata": {},
   "outputs": [],
   "source": [
    "\n",
    "all_columns = []\n",
    "\n",
    "for i in balance_sheet_data:\n",
    "    all_columns.append(i.columns.values)\n",
    "\n",
    "common_financials = all_columns[0]\n",
    "for i in all_columns:\n",
    "    common_financials = common_financials[np.in1d(common_financials,i)]"
   ]
  },
  {
   "cell_type": "code",
   "execution_count": 15,
   "metadata": {},
   "outputs": [],
   "source": [
    "balance_sheet_data_clean = []\n",
    "for i in balance_sheet_data:\n",
    "    balance_sheet_data_clean.append(i[common_financials])"
   ]
  },
  {
   "cell_type": "code",
   "execution_count": 16,
   "metadata": {},
   "outputs": [
    {
     "data": {
      "text/html": [
       "<div>\n",
       "<style scoped>\n",
       "    .dataframe tbody tr th:only-of-type {\n",
       "        vertical-align: middle;\n",
       "    }\n",
       "\n",
       "    .dataframe tbody tr th {\n",
       "        vertical-align: top;\n",
       "    }\n",
       "\n",
       "    .dataframe thead th {\n",
       "        text-align: right;\n",
       "    }\n",
       "</style>\n",
       "<table border=\"1\" class=\"dataframe\">\n",
       "  <thead>\n",
       "    <tr style=\"text-align: right;\">\n",
       "      <th></th>\n",
       "      <th>CapitalStock</th>\n",
       "      <th>CommonStock</th>\n",
       "      <th>CommonStockEquity</th>\n",
       "      <th>InvestedCapital</th>\n",
       "      <th>NetTangibleAssets</th>\n",
       "      <th>OrdinarySharesNumber</th>\n",
       "      <th>ShareIssued</th>\n",
       "      <th>StockholdersEquity</th>\n",
       "      <th>TangibleBookValue</th>\n",
       "      <th>TotalAssets</th>\n",
       "      <th>...</th>\n",
       "      <th>NetIncomeFromContinuingAndDiscontinuedOperation</th>\n",
       "      <th>NetIncomeFromContinuingOperationNetMinorityInterest</th>\n",
       "      <th>NetIncomeIncludingNoncontrollingInterests</th>\n",
       "      <th>NormalizedIncome</th>\n",
       "      <th>OperatingRevenue</th>\n",
       "      <th>PretaxIncome</th>\n",
       "      <th>TaxEffectOfUnusualItems</th>\n",
       "      <th>TaxRateForCalcs</th>\n",
       "      <th>TotalRevenue</th>\n",
       "      <th>returns</th>\n",
       "    </tr>\n",
       "    <tr>\n",
       "      <th>asOfDate</th>\n",
       "      <th></th>\n",
       "      <th></th>\n",
       "      <th></th>\n",
       "      <th></th>\n",
       "      <th></th>\n",
       "      <th></th>\n",
       "      <th></th>\n",
       "      <th></th>\n",
       "      <th></th>\n",
       "      <th></th>\n",
       "      <th></th>\n",
       "      <th></th>\n",
       "      <th></th>\n",
       "      <th></th>\n",
       "      <th></th>\n",
       "      <th></th>\n",
       "      <th></th>\n",
       "      <th></th>\n",
       "      <th></th>\n",
       "      <th></th>\n",
       "      <th></th>\n",
       "    </tr>\n",
       "  </thead>\n",
       "  <tbody>\n",
       "    <tr>\n",
       "      <th>2017-12-31</th>\n",
       "      <td>0.000000</td>\n",
       "      <td>0.000000</td>\n",
       "      <td>0.122839</td>\n",
       "      <td>0.162384</td>\n",
       "      <td>0.587542</td>\n",
       "      <td>-0.003087</td>\n",
       "      <td>0.005046</td>\n",
       "      <td>0.122839</td>\n",
       "      <td>0.587542</td>\n",
       "      <td>0.154410</td>\n",
       "      <td>...</td>\n",
       "      <td>-0.038020</td>\n",
       "      <td>-0.038020</td>\n",
       "      <td>-0.037367</td>\n",
       "      <td>-0.112865</td>\n",
       "      <td>0.051413</td>\n",
       "      <td>0.070183</td>\n",
       "      <td>0.000000</td>\n",
       "      <td>0.254417</td>\n",
       "      <td>0.051413</td>\n",
       "      <td>-0.118151</td>\n",
       "    </tr>\n",
       "    <tr>\n",
       "      <th>2018-12-31</th>\n",
       "      <td>0.000000</td>\n",
       "      <td>0.000000</td>\n",
       "      <td>-0.152815</td>\n",
       "      <td>-0.042882</td>\n",
       "      <td>0.544008</td>\n",
       "      <td>-0.030778</td>\n",
       "      <td>0.000000</td>\n",
       "      <td>-0.152815</td>\n",
       "      <td>0.544008</td>\n",
       "      <td>-0.039145</td>\n",
       "      <td>...</td>\n",
       "      <td>0.101070</td>\n",
       "      <td>0.101070</td>\n",
       "      <td>0.101458</td>\n",
       "      <td>0.100439</td>\n",
       "      <td>0.035000</td>\n",
       "      <td>-0.072602</td>\n",
       "      <td>-0.384714</td>\n",
       "      <td>-0.340845</td>\n",
       "      <td>0.035000</td>\n",
       "      <td>-0.361933</td>\n",
       "    </tr>\n",
       "    <tr>\n",
       "      <th>2019-12-31</th>\n",
       "      <td>0.000000</td>\n",
       "      <td>0.000000</td>\n",
       "      <td>0.027256</td>\n",
       "      <td>0.244000</td>\n",
       "      <td>2.351648</td>\n",
       "      <td>-0.002411</td>\n",
       "      <td>0.000000</td>\n",
       "      <td>0.027256</td>\n",
       "      <td>2.351648</td>\n",
       "      <td>0.223534</td>\n",
       "      <td>...</td>\n",
       "      <td>-0.145635</td>\n",
       "      <td>-0.145635</td>\n",
       "      <td>-0.145627</td>\n",
       "      <td>-0.065213</td>\n",
       "      <td>-0.019197</td>\n",
       "      <td>-0.184000</td>\n",
       "      <td>-1.074251</td>\n",
       "      <td>-0.153846</td>\n",
       "      <td>-0.019197</td>\n",
       "      <td>-0.105039</td>\n",
       "    </tr>\n",
       "    <tr>\n",
       "      <th>2017-12-31</th>\n",
       "      <td>0.781377</td>\n",
       "      <td>0.781377</td>\n",
       "      <td>0.504382</td>\n",
       "      <td>0.382592</td>\n",
       "      <td>-2.755171</td>\n",
       "      <td>0.183814</td>\n",
       "      <td>0.151354</td>\n",
       "      <td>0.504382</td>\n",
       "      <td>-2.755171</td>\n",
       "      <td>0.447803</td>\n",
       "      <td>...</td>\n",
       "      <td>-0.659286</td>\n",
       "      <td>-0.667921</td>\n",
       "      <td>-0.659286</td>\n",
       "      <td>-0.768262</td>\n",
       "      <td>0.313480</td>\n",
       "      <td>0.578910</td>\n",
       "      <td>-1.110785</td>\n",
       "      <td>0.612903</td>\n",
       "      <td>0.313480</td>\n",
       "      <td>0.287427</td>\n",
       "    </tr>\n",
       "    <tr>\n",
       "      <th>2018-12-31</th>\n",
       "      <td>0.013186</td>\n",
       "      <td>0.013186</td>\n",
       "      <td>-0.012072</td>\n",
       "      <td>-0.148433</td>\n",
       "      <td>-0.200329</td>\n",
       "      <td>0.006892</td>\n",
       "      <td>0.002686</td>\n",
       "      <td>-0.012072</td>\n",
       "      <td>-0.200329</td>\n",
       "      <td>-0.119043</td>\n",
       "      <td>...</td>\n",
       "      <td>3.964361</td>\n",
       "      <td>5.611898</td>\n",
       "      <td>3.964361</td>\n",
       "      <td>6.493506</td>\n",
       "      <td>0.043556</td>\n",
       "      <td>0.287763</td>\n",
       "      <td>-3.695588</td>\n",
       "      <td>-0.530000</td>\n",
       "      <td>0.116393</td>\n",
       "      <td>-0.084676</td>\n",
       "    </tr>\n",
       "  </tbody>\n",
       "</table>\n",
       "<p>5 rows × 41 columns</p>\n",
       "</div>"
      ],
      "text/plain": [
       "            CapitalStock  CommonStock  CommonStockEquity  InvestedCapital  \\\n",
       "asOfDate                                                                    \n",
       "2017-12-31      0.000000     0.000000           0.122839         0.162384   \n",
       "2018-12-31      0.000000     0.000000          -0.152815        -0.042882   \n",
       "2019-12-31      0.000000     0.000000           0.027256         0.244000   \n",
       "2017-12-31      0.781377     0.781377           0.504382         0.382592   \n",
       "2018-12-31      0.013186     0.013186          -0.012072        -0.148433   \n",
       "\n",
       "            NetTangibleAssets  OrdinarySharesNumber  ShareIssued  \\\n",
       "asOfDate                                                           \n",
       "2017-12-31           0.587542             -0.003087     0.005046   \n",
       "2018-12-31           0.544008             -0.030778     0.000000   \n",
       "2019-12-31           2.351648             -0.002411     0.000000   \n",
       "2017-12-31          -2.755171              0.183814     0.151354   \n",
       "2018-12-31          -0.200329              0.006892     0.002686   \n",
       "\n",
       "            StockholdersEquity  TangibleBookValue  TotalAssets  ...  \\\n",
       "asOfDate                                                        ...   \n",
       "2017-12-31            0.122839           0.587542     0.154410  ...   \n",
       "2018-12-31           -0.152815           0.544008    -0.039145  ...   \n",
       "2019-12-31            0.027256           2.351648     0.223534  ...   \n",
       "2017-12-31            0.504382          -2.755171     0.447803  ...   \n",
       "2018-12-31           -0.012072          -0.200329    -0.119043  ...   \n",
       "\n",
       "            NetIncomeFromContinuingAndDiscontinuedOperation  \\\n",
       "asOfDate                                                      \n",
       "2017-12-31                                        -0.038020   \n",
       "2018-12-31                                         0.101070   \n",
       "2019-12-31                                        -0.145635   \n",
       "2017-12-31                                        -0.659286   \n",
       "2018-12-31                                         3.964361   \n",
       "\n",
       "            NetIncomeFromContinuingOperationNetMinorityInterest  \\\n",
       "asOfDate                                                          \n",
       "2017-12-31                                          -0.038020     \n",
       "2018-12-31                                           0.101070     \n",
       "2019-12-31                                          -0.145635     \n",
       "2017-12-31                                          -0.667921     \n",
       "2018-12-31                                           5.611898     \n",
       "\n",
       "            NetIncomeIncludingNoncontrollingInterests  NormalizedIncome  \\\n",
       "asOfDate                                                                  \n",
       "2017-12-31                                  -0.037367         -0.112865   \n",
       "2018-12-31                                   0.101458          0.100439   \n",
       "2019-12-31                                  -0.145627         -0.065213   \n",
       "2017-12-31                                  -0.659286         -0.768262   \n",
       "2018-12-31                                   3.964361          6.493506   \n",
       "\n",
       "            OperatingRevenue  PretaxIncome  TaxEffectOfUnusualItems  \\\n",
       "asOfDate                                                              \n",
       "2017-12-31          0.051413      0.070183                 0.000000   \n",
       "2018-12-31          0.035000     -0.072602                -0.384714   \n",
       "2019-12-31         -0.019197     -0.184000                -1.074251   \n",
       "2017-12-31          0.313480      0.578910                -1.110785   \n",
       "2018-12-31          0.043556      0.287763                -3.695588   \n",
       "\n",
       "            TaxRateForCalcs  TotalRevenue   returns  \n",
       "asOfDate                                             \n",
       "2017-12-31         0.254417      0.051413 -0.118151  \n",
       "2018-12-31        -0.340845      0.035000 -0.361933  \n",
       "2019-12-31        -0.153846     -0.019197 -0.105039  \n",
       "2017-12-31         0.612903      0.313480  0.287427  \n",
       "2018-12-31        -0.530000      0.116393 -0.084676  \n",
       "\n",
       "[5 rows x 41 columns]"
      ]
     },
     "execution_count": 16,
     "metadata": {},
     "output_type": "execute_result"
    }
   ],
   "source": [
    "df = pd.concat(balance_sheet_data_clean)\n",
    "df['returns'] = returns\n",
    "df = df.dropna(subset=['returns'])\n",
    "df.replace(-np.inf, 0, inplace=True)\n",
    "df.replace(np.inf, 0, inplace=True)\n",
    "df.dropna(inplace=True)\n",
    "df.head()"
   ]
  },
  {
   "cell_type": "code",
   "execution_count": 42,
   "metadata": {},
   "outputs": [],
   "source": [
    "from sklearn.model_selection import train_test_split\n",
    "\n",
    "train_set, test_set = train_test_split(df, test_size=0.05, random_state=42)\n"
   ]
  },
  {
   "cell_type": "code",
   "execution_count": 44,
   "metadata": {},
   "outputs": [],
   "source": [
    "X_train = train_set.drop(['returns'],axis=1)\n",
    "y_train = train_set['returns']\n",
    "\n",
    "X_test = test_set.drop(['returns'],axis=1)\n",
    "y_test_returns = test_set['returns']"
   ]
  },
  {
   "cell_type": "code",
   "execution_count": 45,
   "metadata": {},
   "outputs": [],
   "source": [
    "y_train = np.where(y_train.values > 0,1,0)\n",
    "y_test = np.where(y_test_returns.values > 0,1,0)"
   ]
  },
  {
   "cell_type": "code",
   "execution_count": 46,
   "metadata": {},
   "outputs": [
    {
     "data": {
      "text/plain": [
       "0.5798090040927695"
      ]
     },
     "execution_count": 46,
     "metadata": {},
     "output_type": "execute_result"
    }
   ],
   "source": [
    "# base rate\n",
    "1 - sum(y_train) / len(y_train)"
   ]
  },
  {
   "cell_type": "code",
   "execution_count": 22,
   "metadata": {},
   "outputs": [],
   "source": [
    "from sklearn.ensemble import RandomForestClassifier\n",
    "from sklearn.ensemble import VotingClassifier\n",
    "from sklearn.linear_model import LogisticRegression\n",
    "from sklearn.svm import SVC\n",
    "\n",
    "log_clf = LogisticRegression(solver=\"lbfgs\", random_state=42)\n",
    "rnd_clf = RandomForestClassifier(n_estimators=100, random_state=42)\n",
    "svm_clf = SVC(gamma=\"scale\",probability=True, random_state=42)\n",
    "\n",
    "voting_clf = VotingClassifier(\n",
    "    estimators=[('lr', log_clf), ('rf', rnd_clf), ('svc', svm_clf)],\n",
    "    voting='hard')"
   ]
  },
  {
   "cell_type": "code",
   "execution_count": 47,
   "metadata": {},
   "outputs": [
    {
     "name": "stderr",
     "output_type": "stream",
     "text": [
      "/opt/anaconda3/lib/python3.7/site-packages/sklearn/linear_model/_logistic.py:940: ConvergenceWarning: lbfgs failed to converge (status=1):\n",
      "STOP: TOTAL NO. of ITERATIONS REACHED LIMIT.\n",
      "\n",
      "Increase the number of iterations (max_iter) or scale the data as shown in:\n",
      "    https://scikit-learn.org/stable/modules/preprocessing.html\n",
      "Please also refer to the documentation for alternative solver options:\n",
      "    https://scikit-learn.org/stable/modules/linear_model.html#logistic-regression\n",
      "  extra_warning_msg=_LOGISTIC_SOLVER_CONVERGENCE_MSG)\n"
     ]
    },
    {
     "name": "stdout",
     "output_type": "stream",
     "text": [
      "LogisticRegression 0.5384615384615384\n",
      "RandomForestClassifier 0.6025641025641025\n",
      "SVC 0.5256410256410257\n"
     ]
    },
    {
     "name": "stderr",
     "output_type": "stream",
     "text": [
      "/opt/anaconda3/lib/python3.7/site-packages/sklearn/linear_model/_logistic.py:940: ConvergenceWarning: lbfgs failed to converge (status=1):\n",
      "STOP: TOTAL NO. of ITERATIONS REACHED LIMIT.\n",
      "\n",
      "Increase the number of iterations (max_iter) or scale the data as shown in:\n",
      "    https://scikit-learn.org/stable/modules/preprocessing.html\n",
      "Please also refer to the documentation for alternative solver options:\n",
      "    https://scikit-learn.org/stable/modules/linear_model.html#logistic-regression\n",
      "  extra_warning_msg=_LOGISTIC_SOLVER_CONVERGENCE_MSG)\n"
     ]
    },
    {
     "name": "stdout",
     "output_type": "stream",
     "text": [
      "VotingClassifier 0.5256410256410257\n"
     ]
    }
   ],
   "source": [
    "from sklearn.metrics import accuracy_score\n",
    "\n",
    "for clf in (log_clf, rnd_clf, svm_clf, voting_clf):\n",
    "    clf.fit(X_train, y_train)\n",
    "    y_pred = clf.predict(X_test)\n",
    "    print(clf.__class__.__name__, accuracy_score(y_test, y_pred))"
   ]
  },
  {
   "cell_type": "code",
   "execution_count": 48,
   "metadata": {},
   "outputs": [],
   "source": [
    "most_imp = {}\n",
    "\n",
    "for i,j in zip(common_financials,rnd_clf.feature_importances_):\n",
    "    most_imp[i] = j\n"
   ]
  },
  {
   "cell_type": "code",
   "execution_count": 49,
   "metadata": {
    "scrolled": false
   },
   "outputs": [
    {
     "data": {
      "text/plain": [
       "<matplotlib.axes._subplots.AxesSubplot at 0x1a2272ed50>"
      ]
     },
     "execution_count": 49,
     "metadata": {},
     "output_type": "execute_result"
    },
    {
     "data": {
      "image/png": "[encoded data removed]",
      "text/plain": [
       "<Figure size 432x288 with 1 Axes>"
      ]
     },
     "metadata": {
      "needs_background": "light"
     },
     "output_type": "display_data"
    }
   ],
   "source": [
    "import collections\n",
    "\n",
    "sorted_x = sorted(most_imp.items(), key=lambda kv: kv[1],reverse=True)\n",
    "sorted_dict = collections.OrderedDict(sorted_x)\n",
    "\n",
    "pd.Series(sorted_dict)[:7].plot.bar()"
   ]
  },
  {
   "cell_type": "code",
   "execution_count": null,
   "metadata": {},
   "outputs": [],
   "source": []
  },
  {
   "cell_type": "code",
   "execution_count": 50,
   "metadata": {},
   "outputs": [],
   "source": [
    "from sklearn.metrics import confusion_matrix\n",
    "y_pred = rnd_clf.predict(X_test)"
   ]
  },
  {
   "cell_type": "code",
   "execution_count": 51,
   "metadata": {},
   "outputs": [
    {
     "data": {
      "text/plain": [
       "array([[35,  6],\n",
       "       [25, 12]])"
      ]
     },
     "execution_count": 51,
     "metadata": {},
     "output_type": "execute_result"
    }
   ],
   "source": [
    "confusion_matrix(y_test,y_pred)"
   ]
  },
  {
   "cell_type": "code",
   "execution_count": 54,
   "metadata": {},
   "outputs": [],
   "source": [
    "y_proba = rnd_clf.predict_proba(X_test)\n",
    "preformance = []\n",
    "for i in np.argwhere(np.where(y_proba>.55,1,0)[:,1:]>0)[:,:1]:\n",
    "    preformance.append(y_test_returns.iloc[i].values)"
   ]
  },
  {
   "cell_type": "code",
   "execution_count": 55,
   "metadata": {
    "scrolled": true
   },
   "outputs": [
    {
     "data": {
      "text/plain": [
       "0.07634303841816387"
      ]
     },
     "execution_count": 55,
     "metadata": {},
     "output_type": "execute_result"
    }
   ],
   "source": [
    "np.mean(preformance)"
   ]
  },
  {
   "cell_type": "code",
   "execution_count": 56,
   "metadata": {},
   "outputs": [
    {
     "data": {
      "text/plain": [
       "[array([0.04178793]),\n",
       " array([-0.24108976]),\n",
       " array([0.27241363]),\n",
       " array([1.18114123]),\n",
       " array([-0.21661117]),\n",
       " array([-0.19067571]),\n",
       " array([-0.27263807]),\n",
       " array([0.15570089]),\n",
       " array([0.04633371]),\n",
       " array([0.05199209]),\n",
       " array([0.01141864])]"
      ]
     },
     "execution_count": 56,
     "metadata": {},
     "output_type": "execute_result"
    }
   ],
   "source": [
    "preformance"
   ]
  },
  {
   "cell_type": "markdown",
   "metadata": {},
   "source": [
    "## conclusion\n",
    "this model beat the S&P 500 by 7%, one could use this model to make a long short strategy and short the S&P while buying the stocks this model predicts."
   ]
  },
  {
   "cell_type": "code",
   "execution_count": null,
   "metadata": {},
   "outputs": [],
   "source": []
  }
 ],
 "metadata": {
  "kernelspec": {
   "display_name": "Python 3",
   "language": "python",
   "name": "python3"
  },
  "language_info": {
   "codemirror_mode": {
    "name": "ipython",
    "version": 3
   },
   "file_extension": ".py",
   "mimetype": "text/x-python",
   "name": "python",
   "nbconvert_exporter": "python",
   "pygments_lexer": "ipython3",
   "version": "3.7.6"
  }
 },
 "nbformat": 4,
 "nbformat_minor": 4
}
